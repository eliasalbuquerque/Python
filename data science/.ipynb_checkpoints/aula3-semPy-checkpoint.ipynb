{
 "cells": [
  {
   "cell_type": "markdown",
   "metadata": {},
   "source": [
    "# Projeto Ciência de Dados - Previsão de Vendas\n",
    "\n",
    "- Esse projeto deve prever vendas que vamos ter em determinado período com base nos gastos em anúncios nas 3 grandes redes que a empresa investe: TV, Jornal e Rádio.\n",
    "\n",
    "## Passo a passo de um projeto de ciencia de dados\n",
    "\n",
    "<!-- - Passo 1: Entendimento do desafio;\n",
    "- Passo 2: Entendimento do ramo da empresa;\n",
    "- Passo 3: Extração dos dados;\n",
    "- Passo 4: Tratamento de dados;\n",
    "- Passo 5: Análise exploratória; \n",
    "- Passo 6: Modelagem + algoritmos (possívelmente aplicação de inteligeência Artificial);\n",
    "- Passo 7: Interpretação dos resultados; -->\n",
    "\n",
    "- Passo 1: [Entendimento do desafio](#entendimento)\n",
    "- Passo 2: [Entendimento do ramo da empresa](#ramoEmpresa)\n",
    "- Passo 3: [Extração dos dados](#extracao)\n",
    "- Passo 4: [Tratamento de dados](#tratamento)\n",
    "- Passo 5: [Análise exploratória](#exploracao)\n",
    "- Passo 6: [Modelagem + algoritmos (possívelmente aplicação de inteligeência Artificial)](#modelagem)\n",
    "- Passo 7: [Interpretação dos resultados](#resultados)"
   ]
  },
  {
   "cell_type": "markdown",
   "metadata": {},
   "source": [
    "### Entendimento do desafio <a class = \"anchor\" id = \"entendimento\" ></a>\n",
    "\n",
    "Fazer a previsão de vendas baseada no investimento em propaganda nos meios de comunicação da tabela.\n",
    "\n",
    "### Entendimento do ramo da empresa <a class = \"anchor\" id = \"ramoEmpresa\" ></a>\n",
    "\n",
    "[null]"
   ]
  },
  {
   "cell_type": "markdown",
   "metadata": {},
   "source": [
    "### Extração dos dados <a class = \"anchor\" id = \"extracao\" ></a>"
   ]
  },
  {
   "cell_type": "code",
   "execution_count": null,
   "metadata": {
    "scrolled": false
   },
   "outputs": [],
   "source": [
    "import pandas as pd\n",
    "\n",
    "tabela = pd.read_csv(r'C:\\Users\\elias\\Documents\\Meus_Projetos\\semana do python - Hashtag Programação\\Aula 3-20210429\\Aula 3\\advertising.csv')\n",
    "display(tabela)"
   ]
  },
  {
   "cell_type": "markdown",
   "metadata": {},
   "source": [
    "#### Análise\n",
    "\n",
    "Os valores investidos em TV, Radio e Jornal estão na escala dos x1.000,00 (x10^3) e o de vendas x1.000.000,00 (x10^6)."
   ]
  },
  {
   "cell_type": "markdown",
   "metadata": {},
   "source": [
    "### Tratamento de dados <a class = \"anchor\" id = \"tratamento\" ></a>"
   ]
  },
  {
   "cell_type": "code",
   "execution_count": null,
   "metadata": {},
   "outputs": [],
   "source": [
    "# verificando valores nulos e tipos de informacao contida na bd;\n",
    "display(tabela.info())"
   ]
  },
  {
   "cell_type": "markdown",
   "metadata": {},
   "source": [
    "### Análise exploratória<a class = \"anchor\" id = \"exploracao\" ></a>\n",
    "\n",
    "- Vamos analisar a distribuição das informações;\n",
    "- Vamos ver a correlação entre cada um dos itens;"
   ]
  },
  {
   "cell_type": "code",
   "execution_count": null,
   "metadata": {},
   "outputs": [],
   "source": [
    "import seaborn as sns\n",
    "import matplotlib as plt\n",
    "\n",
    "sns.pairplot(tabela)\n",
    "plt.show()"
   ]
  },
  {
   "cell_type": "markdown",
   "metadata": {},
   "source": [
    "### Modelagem + algoritmos (possívelmente aplicação de inteligeência Artificial)<a class = \"anchor\" id = \"modelagem\" ></a>"
   ]
  },
  {
   "cell_type": "code",
   "execution_count": null,
   "metadata": {},
   "outputs": [],
   "source": [
    "# codigo"
   ]
  },
  {
   "cell_type": "markdown",
   "metadata": {},
   "source": [
    "### Interpretação dos resultados<a class = \"anchor\" id = \"resultados\" ></a>"
   ]
  },
  {
   "cell_type": "code",
   "execution_count": null,
   "metadata": {},
   "outputs": [],
   "source": [
    "# codigo"
   ]
  },
  {
   "cell_type": "code",
   "execution_count": null,
   "metadata": {},
   "outputs": [],
   "source": []
  },
  {
   "cell_type": "code",
   "execution_count": null,
   "metadata": {},
   "outputs": [],
   "source": []
  }
 ],
 "metadata": {
  "kernelspec": {
   "display_name": "Python 3",
   "language": "python",
   "name": "python3"
  },
  "language_info": {
   "codemirror_mode": {
    "name": "ipython",
    "version": 3
   },
   "file_extension": ".py",
   "mimetype": "text/x-python",
   "name": "python",
   "nbconvert_exporter": "python",
   "pygments_lexer": "ipython3",
   "version": "3.8.5"
  }
 },
 "nbformat": 4,
 "nbformat_minor": 4
}
