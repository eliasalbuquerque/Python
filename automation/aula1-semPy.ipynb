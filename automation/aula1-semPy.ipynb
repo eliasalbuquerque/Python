{
 "cells": [
  {
   "cell_type": "code",
   "execution_count": 5,
   "metadata": {},
   "outputs": [],
   "source": [
    "# importar as bibliotecas\n",
    "import pyautogui # faz a automacao do mouse e teclado;\n",
    "import time # controla o tempo do nosso programa;\n",
    "import pyperclip # ela permite a gente copiar e colar com o python;\n",
    "import pandas as pd\n",
    "\n",
    "# passo 1: Entrar no sistema (link do Google Drive)\n",
    "pyautogui.hotkey('ctrl', 't')\n",
    "\n",
    "# passo 2: Entrar na pasta da Aula 1\n",
    "link = 'https://drive.google.com/drive/folders/1mhXZ3JPAnekXP_4vX7Z_sJj35VWqayaR'\n",
    "pyperclip.copy(link) # para copiar algo no codigo;\n",
    "pyautogui.hotkey('ctrl', 'v') # após abrir a nova aba, cola o link;\n",
    "pyautogui.press('enter')      # e dá 'enter' em seguida;\n",
    "time.sleep(5)\n",
    "pyautogui.click(300, 380, clicks = 2) # abrir a pasta da 'Aula 1'\n",
    "\n",
    "# passo 3: Fazer o dawnload da Base de Vendas\n",
    "time.sleep(3)\n",
    "pyautogui.click(317, 256)\n",
    "time.sleep(2)\n",
    "pyautogui.click(1089, 171)\n",
    "time.sleep(2)\n",
    "pyautogui.click(915, 494)\n",
    "time.sleep(10)\n",
    "\n",
    "# passo 4: Calcular os indicadores (Faturamento e a quantidade de produtos)\n",
    "tabela = pd.read_excel(r'C:\\Users\\elias\\Downloads\\Vendas - Dez.xlsx') # o 'r' é para ler exatamente o link como está;\n",
    "# display(tabela)\n",
    "faturamento = tabela['Valor Final'].sum()\n",
    "qProdutos = tabela['Quantidade'].sum()\n",
    "\n",
    "# passo 5: Entrar no meu email\n",
    "pyautogui.hotkey('ctrl', 't')\n",
    "link = 'https://mail.google.com/mail/u/0/#inbox'\n",
    "pyperclip.copy(link)\n",
    "pyautogui.hotkey('ctrl', 'v')\n",
    "pyautogui.press('enter')\n",
    "time.sleep(12)\n",
    "\n",
    "# passo 6: Criar o email\n",
    "pyautogui.click(214, 166) # novo email;\n",
    "time.sleep(2)\n",
    "pyautogui.write('eajunior85@gmail.com')\n",
    "time.sleep(2)\n",
    "pyautogui.press('tab') # confirma o destinatario;\n",
    "time.sleep(2)\n",
    "pyautogui.press('tab') # campo assunto do email;\n",
    "time.sleep(2)\n",
    "assunto = 'Relatório de vendas' # método utilizado pq no '.write' não aceita caracteres especiais;\n",
    "pyperclip.copy(assunto)\n",
    "pyautogui.hotkey('ctrl', 'v')\n",
    "time.sleep(2)\n",
    "pyautogui.press('tab') # texto do email;\n",
    "textoEmail = f\"\"\"\n",
    "Boa noite,\n",
    "\n",
    "O faturamento foi de R${faturamento:,.2f},\n",
    "e quantidade de produtos foi de {qProdutos:,}.\n",
    "\"\"\" # o 'f' antes de comentario significa que vc vai colocar uma variavel dentro desse texto;\n",
    "pyperclip.copy(textoEmail)\n",
    "pyautogui.hotkey('ctrl', 'v')\n",
    "\n",
    "# passo 7: Enviar o email\n",
    "time.sleep(2)\n",
    "pyautogui.hotkey('ctrl', 'enter')"
   ]
  },
  {
   "cell_type": "code",
   "execution_count": 57,
   "metadata": {},
   "outputs": [
    {
     "data": {
      "text/plain": [
       "Point(x=214, y=166)"
      ]
     },
     "execution_count": 57,
     "metadata": {},
     "output_type": "execute_result"
    }
   ],
   "source": [
    "time.sleep(7)\n",
    "pyautogui.position()"
   ]
  },
  {
   "cell_type": "raw",
   "metadata": {},
   "source": []
  },
  {
   "cell_type": "markdown",
   "metadata": {},
   "source": []
  },
  {
   "cell_type": "markdown",
   "metadata": {},
   "source": [
    "##### "
   ]
  }
 ],
 "metadata": {
  "kernelspec": {
   "display_name": "Python 3",
   "language": "python",
   "name": "python3"
  },
  "language_info": {
   "codemirror_mode": {
    "name": "ipython",
    "version": 3
   },
   "file_extension": ".py",
   "mimetype": "text/x-python",
   "name": "python",
   "nbconvert_exporter": "python",
   "pygments_lexer": "ipython3",
   "version": "3.8.5"
  }
 },
 "nbformat": 4,
 "nbformat_minor": 4
}
